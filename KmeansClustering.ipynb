{
 "cells": [
  {
   "cell_type": "markdown",
   "id": "ef59c049",
   "metadata": {},
   "source": [
    "\n",
    "\n",
    "# <center> Project 2 - WHOLESALE CUSTOMER  <center>\n",
    "\n",
    "<hr style=\"border:2px  solid black\"> </hr>\n"
   ]
  },
  {
   "cell_type": "markdown",
   "id": "59c9d261",
   "metadata": {},
   "source": [
    "### TABLE OF CONTENTS\n",
    "    \n",
    "1. [Importing the Libraries](#lib_import)\n",
    "2.[Exploring the 'Wholesale Customer' Dataset](#explore-ds)\n",
    "3.[Data Preparation](#data_prep)\n",
    "    * [Check for null values](#null)\n",
    "    * [Check for outliers](#outliers)\n",
    "    * [Target variable distribution](#imb)\n",
    "    * [Check the distribution of data using histograms](#hist)\n",
    "4. [Scaling the features](#sf)\n",
    "    * [Standard Scaler](#SLR)\n",
    "    *[MinMax Scaler](#mm)\n",
    "    *[Visulaizing scaled and normalized data](#sn)\n",
    "    *[BoxCox Transformation](#bx)\n",
    "5. [RFECV](#rfecv)\n",
    "6. [Elbow method and K-means clustering implementation](#km)\n",
    "7. [PCA](#pca)\n",
    "8. [Data Modelling](#dm)\n",
    "    * [Train_test_split](#tts)\n",
    "    * [Implementing XgBoost](#xgb)\n",
    "    * [Cross Validation](#cv)\n",
    "    * [Model Evaluation](#me)\n",
    "9. [Conclusion](#cln)"
   ]
  },
  {
   "cell_type": "markdown",
   "id": "dcd1259a",
   "metadata": {},
   "source": [
    "\n",
    "<hr style=\"border:.1px  solid  gray\"> </hr>\n",
    "\n",
    "## <CENTER> IMPORTING THE LIBRARIES<a name=\"lib_import\"></a>\n",
    "\n",
    "\n",
    "<hr style=\"border:01px  solid gray\"> </hr>"
   ]
  },
  {
   "cell_type": "code",
   "execution_count": 1,
   "id": "00b72562",
   "metadata": {},
   "outputs": [],
   "source": [
    "#importing the libraries\n",
    "import numpy as np\n",
    "import pandas as pd\n",
    "import sklearn\n",
    "\n",
    "#importing the library for visulasing\n",
    "import matplotlib.pyplot as plt\n",
    "import seaborn as sns\n",
    "import statsmodels.api as smq\n",
    "%matplotlib inline\n",
    "\n",
    "#importing librarues for scaling\n",
    "from sklearn.preprocessing import StandardScaler\n",
    "\n",
    "#importing library for train_test_split, cross validation and grid search\n",
    "from sklearn.model_selection import train_test_split\n",
    "from sklearn.model_selection import cross_val_score\n",
    "\n",
    "#importing Gradient Boosting algo and Kmeans\n",
    "from sklearn.ensemble import GradientBoostingClassifier\n",
    "from sklearn.cluster import KMeans\n",
    "\n",
    "#importing metrics for evaluation\n",
    "from sklearn.metrics import accuracy_score\n",
    "import warnings\n",
    "warnings.filterwarnings('ignore', category=FutureWarning)\n",
    "warnings.filterwarnings('ignore', category=DeprecationWarning)\n",
    "from time import time\n",
    "import joblib\n"
   ]
  },
  {
   "cell_type": "code",
   "execution_count": 2,
   "id": "05f99346",
   "metadata": {},
   "outputs": [
    {
     "data": {
      "text/html": [
       "<div>\n",
       "<style scoped>\n",
       "    .dataframe tbody tr th:only-of-type {\n",
       "        vertical-align: middle;\n",
       "    }\n",
       "\n",
       "    .dataframe tbody tr th {\n",
       "        vertical-align: top;\n",
       "    }\n",
       "\n",
       "    .dataframe thead th {\n",
       "        text-align: right;\n",
       "    }\n",
       "</style>\n",
       "<table border=\"1\" class=\"dataframe\">\n",
       "  <thead>\n",
       "    <tr style=\"text-align: right;\">\n",
       "      <th></th>\n",
       "      <th>Channel</th>\n",
       "      <th>Region</th>\n",
       "      <th>Fresh</th>\n",
       "      <th>Milk</th>\n",
       "      <th>Grocery</th>\n",
       "      <th>Frozen</th>\n",
       "      <th>Detergents_Paper</th>\n",
       "      <th>Delicassen</th>\n",
       "    </tr>\n",
       "  </thead>\n",
       "  <tbody>\n",
       "    <tr>\n",
       "      <th>0</th>\n",
       "      <td>2</td>\n",
       "      <td>3</td>\n",
       "      <td>12669</td>\n",
       "      <td>9656</td>\n",
       "      <td>7561</td>\n",
       "      <td>214</td>\n",
       "      <td>2674</td>\n",
       "      <td>1338</td>\n",
       "    </tr>\n",
       "    <tr>\n",
       "      <th>1</th>\n",
       "      <td>2</td>\n",
       "      <td>3</td>\n",
       "      <td>7057</td>\n",
       "      <td>9810</td>\n",
       "      <td>9568</td>\n",
       "      <td>1762</td>\n",
       "      <td>3293</td>\n",
       "      <td>1776</td>\n",
       "    </tr>\n",
       "    <tr>\n",
       "      <th>2</th>\n",
       "      <td>2</td>\n",
       "      <td>3</td>\n",
       "      <td>6353</td>\n",
       "      <td>8808</td>\n",
       "      <td>7684</td>\n",
       "      <td>2405</td>\n",
       "      <td>3516</td>\n",
       "      <td>7844</td>\n",
       "    </tr>\n",
       "    <tr>\n",
       "      <th>3</th>\n",
       "      <td>1</td>\n",
       "      <td>3</td>\n",
       "      <td>13265</td>\n",
       "      <td>1196</td>\n",
       "      <td>4221</td>\n",
       "      <td>6404</td>\n",
       "      <td>507</td>\n",
       "      <td>1788</td>\n",
       "    </tr>\n",
       "    <tr>\n",
       "      <th>4</th>\n",
       "      <td>2</td>\n",
       "      <td>3</td>\n",
       "      <td>22615</td>\n",
       "      <td>5410</td>\n",
       "      <td>7198</td>\n",
       "      <td>3915</td>\n",
       "      <td>1777</td>\n",
       "      <td>5185</td>\n",
       "    </tr>\n",
       "  </tbody>\n",
       "</table>\n",
       "</div>"
      ],
      "text/plain": [
       "   Channel  Region  Fresh  Milk  Grocery  Frozen  Detergents_Paper  Delicassen\n",
       "0        2       3  12669  9656     7561     214              2674        1338\n",
       "1        2       3   7057  9810     9568    1762              3293        1776\n",
       "2        2       3   6353  8808     7684    2405              3516        7844\n",
       "3        1       3  13265  1196     4221    6404               507        1788\n",
       "4        2       3  22615  5410     7198    3915              1777        5185"
      ]
     },
     "execution_count": 2,
     "metadata": {},
     "output_type": "execute_result"
    }
   ],
   "source": [
    "#Reading the csv dataset\n",
    "df = pd.read_csv('Wholesale_customers_data.csv')\n",
    "df.head(5)"
   ]
  },
  {
   "cell_type": "markdown",
   "id": "82072b45",
   "metadata": {},
   "source": [
    "<hr style=\"border:01px  solid gray\"> </hr>\n",
    "\n",
    "## <center>EXPLORING THE WHOLESALE CUSTOMER DATASET<a name=\"explore-ds\"></a>\n",
    "    \n",
    "\n",
    "<hr style=\"border:01px  solid gray\"> </hr>\n",
    "\n",
    "Here, we would be exploring the dataset in general, like the below: \n",
    "\n",
    "* Shape, column names and size of the dataset\n",
    "* Unique values of target variable. \n",
    "* Descirptive statistics.\n",
    "* Datatype and overview . \n",
    "* Count of values of each feature and the target variable."
   ]
  },
  {
   "cell_type": "code",
   "execution_count": 3,
   "id": "b42b6d47",
   "metadata": {},
   "outputs": [
    {
     "data": {
      "text/plain": [
       "(440, 8)"
      ]
     },
     "execution_count": 3,
     "metadata": {},
     "output_type": "execute_result"
    }
   ],
   "source": [
    "df.shape"
   ]
  },
  {
   "cell_type": "code",
   "execution_count": 4,
   "id": "d194b72d",
   "metadata": {},
   "outputs": [
    {
     "data": {
      "text/plain": [
       "Index(['Channel', 'Region', 'Fresh', 'Milk', 'Grocery', 'Frozen',\n",
       "       'Detergents_Paper', 'Delicassen'],\n",
       "      dtype='object')"
      ]
     },
     "execution_count": 4,
     "metadata": {},
     "output_type": "execute_result"
    }
   ],
   "source": [
    "df.columns"
   ]
  },
  {
   "cell_type": "code",
   "execution_count": 5,
   "id": "ae35c45a",
   "metadata": {},
   "outputs": [
    {
     "name": "stdout",
     "output_type": "stream",
     "text": [
      "<class 'pandas.core.frame.DataFrame'>\n",
      "RangeIndex: 440 entries, 0 to 439\n",
      "Data columns (total 8 columns):\n",
      " #   Column            Non-Null Count  Dtype\n",
      "---  ------            --------------  -----\n",
      " 0   Channel           440 non-null    int64\n",
      " 1   Region            440 non-null    int64\n",
      " 2   Fresh             440 non-null    int64\n",
      " 3   Milk              440 non-null    int64\n",
      " 4   Grocery           440 non-null    int64\n",
      " 5   Frozen            440 non-null    int64\n",
      " 6   Detergents_Paper  440 non-null    int64\n",
      " 7   Delicassen        440 non-null    int64\n",
      "dtypes: int64(8)\n",
      "memory usage: 27.6 KB\n"
     ]
    }
   ],
   "source": [
    "df.info()"
   ]
  },
  {
   "cell_type": "code",
   "execution_count": 6,
   "id": "a1799e33",
   "metadata": {},
   "outputs": [
    {
     "data": {
      "text/html": [
       "<div>\n",
       "<style scoped>\n",
       "    .dataframe tbody tr th:only-of-type {\n",
       "        vertical-align: middle;\n",
       "    }\n",
       "\n",
       "    .dataframe tbody tr th {\n",
       "        vertical-align: top;\n",
       "    }\n",
       "\n",
       "    .dataframe thead th {\n",
       "        text-align: right;\n",
       "    }\n",
       "</style>\n",
       "<table border=\"1\" class=\"dataframe\">\n",
       "  <thead>\n",
       "    <tr style=\"text-align: right;\">\n",
       "      <th></th>\n",
       "      <th>count</th>\n",
       "      <th>mean</th>\n",
       "      <th>std</th>\n",
       "      <th>min</th>\n",
       "      <th>25%</th>\n",
       "      <th>50%</th>\n",
       "      <th>75%</th>\n",
       "      <th>max</th>\n",
       "    </tr>\n",
       "  </thead>\n",
       "  <tbody>\n",
       "    <tr>\n",
       "      <th>Channel</th>\n",
       "      <td>440.0</td>\n",
       "      <td>1.322727</td>\n",
       "      <td>0.468052</td>\n",
       "      <td>1.0</td>\n",
       "      <td>1.00</td>\n",
       "      <td>1.0</td>\n",
       "      <td>2.00</td>\n",
       "      <td>2.0</td>\n",
       "    </tr>\n",
       "    <tr>\n",
       "      <th>Region</th>\n",
       "      <td>440.0</td>\n",
       "      <td>2.543182</td>\n",
       "      <td>0.774272</td>\n",
       "      <td>1.0</td>\n",
       "      <td>2.00</td>\n",
       "      <td>3.0</td>\n",
       "      <td>3.00</td>\n",
       "      <td>3.0</td>\n",
       "    </tr>\n",
       "    <tr>\n",
       "      <th>Fresh</th>\n",
       "      <td>440.0</td>\n",
       "      <td>12000.297727</td>\n",
       "      <td>12647.328865</td>\n",
       "      <td>3.0</td>\n",
       "      <td>3127.75</td>\n",
       "      <td>8504.0</td>\n",
       "      <td>16933.75</td>\n",
       "      <td>112151.0</td>\n",
       "    </tr>\n",
       "    <tr>\n",
       "      <th>Milk</th>\n",
       "      <td>440.0</td>\n",
       "      <td>5796.265909</td>\n",
       "      <td>7380.377175</td>\n",
       "      <td>55.0</td>\n",
       "      <td>1533.00</td>\n",
       "      <td>3627.0</td>\n",
       "      <td>7190.25</td>\n",
       "      <td>73498.0</td>\n",
       "    </tr>\n",
       "    <tr>\n",
       "      <th>Grocery</th>\n",
       "      <td>440.0</td>\n",
       "      <td>7951.277273</td>\n",
       "      <td>9503.162829</td>\n",
       "      <td>3.0</td>\n",
       "      <td>2153.00</td>\n",
       "      <td>4755.5</td>\n",
       "      <td>10655.75</td>\n",
       "      <td>92780.0</td>\n",
       "    </tr>\n",
       "    <tr>\n",
       "      <th>Frozen</th>\n",
       "      <td>440.0</td>\n",
       "      <td>3071.931818</td>\n",
       "      <td>4854.673333</td>\n",
       "      <td>25.0</td>\n",
       "      <td>742.25</td>\n",
       "      <td>1526.0</td>\n",
       "      <td>3554.25</td>\n",
       "      <td>60869.0</td>\n",
       "    </tr>\n",
       "    <tr>\n",
       "      <th>Detergents_Paper</th>\n",
       "      <td>440.0</td>\n",
       "      <td>2881.493182</td>\n",
       "      <td>4767.854448</td>\n",
       "      <td>3.0</td>\n",
       "      <td>256.75</td>\n",
       "      <td>816.5</td>\n",
       "      <td>3922.00</td>\n",
       "      <td>40827.0</td>\n",
       "    </tr>\n",
       "    <tr>\n",
       "      <th>Delicassen</th>\n",
       "      <td>440.0</td>\n",
       "      <td>1524.870455</td>\n",
       "      <td>2820.105937</td>\n",
       "      <td>3.0</td>\n",
       "      <td>408.25</td>\n",
       "      <td>965.5</td>\n",
       "      <td>1820.25</td>\n",
       "      <td>47943.0</td>\n",
       "    </tr>\n",
       "  </tbody>\n",
       "</table>\n",
       "</div>"
      ],
      "text/plain": [
       "                  count          mean           std   min      25%     50%  \\\n",
       "Channel           440.0      1.322727      0.468052   1.0     1.00     1.0   \n",
       "Region            440.0      2.543182      0.774272   1.0     2.00     3.0   \n",
       "Fresh             440.0  12000.297727  12647.328865   3.0  3127.75  8504.0   \n",
       "Milk              440.0   5796.265909   7380.377175  55.0  1533.00  3627.0   \n",
       "Grocery           440.0   7951.277273   9503.162829   3.0  2153.00  4755.5   \n",
       "Frozen            440.0   3071.931818   4854.673333  25.0   742.25  1526.0   \n",
       "Detergents_Paper  440.0   2881.493182   4767.854448   3.0   256.75   816.5   \n",
       "Delicassen        440.0   1524.870455   2820.105937   3.0   408.25   965.5   \n",
       "\n",
       "                       75%       max  \n",
       "Channel               2.00       2.0  \n",
       "Region                3.00       3.0  \n",
       "Fresh             16933.75  112151.0  \n",
       "Milk               7190.25   73498.0  \n",
       "Grocery           10655.75   92780.0  \n",
       "Frozen             3554.25   60869.0  \n",
       "Detergents_Paper   3922.00   40827.0  \n",
       "Delicassen         1820.25   47943.0  "
      ]
     },
     "execution_count": 6,
     "metadata": {},
     "output_type": "execute_result"
    }
   ],
   "source": [
    "df.describe().T"
   ]
  },
  {
   "cell_type": "code",
   "execution_count": 7,
   "id": "9a46bb8c",
   "metadata": {},
   "outputs": [
    {
     "data": {
      "text/plain": [
       "array([2, 1], dtype=int64)"
      ]
     },
     "execution_count": 7,
     "metadata": {},
     "output_type": "execute_result"
    }
   ],
   "source": [
    "df.Channel.unique()"
   ]
  },
  {
   "cell_type": "code",
   "execution_count": 8,
   "id": "3121f188",
   "metadata": {},
   "outputs": [
    {
     "data": {
      "text/plain": [
       "3    316\n",
       "1     77\n",
       "2     47\n",
       "Name: Region, dtype: int64"
      ]
     },
     "execution_count": 8,
     "metadata": {},
     "output_type": "execute_result"
    }
   ],
   "source": [
    "df.Region.value_counts()"
   ]
  },
  {
   "cell_type": "code",
   "execution_count": 9,
   "id": "6d22285f",
   "metadata": {},
   "outputs": [
    {
     "data": {
      "text/plain": [
       "1    298\n",
       "2    142\n",
       "Name: Channel, dtype: int64"
      ]
     },
     "execution_count": 9,
     "metadata": {},
     "output_type": "execute_result"
    }
   ],
   "source": [
    "df.Channel.value_counts()"
   ]
  },
  {
   "cell_type": "markdown",
   "id": "f7971429",
   "metadata": {},
   "source": [
    "***\n",
    "\n",
    "**OBSERVATION**\n",
    "\n",
    "* From the above cells, we infer that the Customer wholesale dataset has 440 rows with 8 columns. \n",
    "* In `cell 4`, the column names are retreived.\n",
    "* The datatype is obtained from the `info()` keyword,in `cell5` which states they are numeric values(integer).\n",
    "* In `cell 6`, `describe()` , shows the descriptive statistics of the data set. It is eveident that the overall values are monetary units and range beween 1.0 to 112151.0. \n",
    "* Also, in `cell 7` , we check for the unique values present in the categorical target feature `Channel'. \n",
    "* `Cell 8`, shows the  value_countss found in the variable `Region`. We can say the `Region` ranges from 1 to 3.\n",
    "\n",
    "\n",
    "***"
   ]
  },
  {
   "cell_type": "markdown",
   "id": "cfc92635",
   "metadata": {},
   "source": [
    "<hr style=\"border:01px  solid gray\"> </hr>\n",
    "\n",
    "## <center>DATA PREPARATION <a name=\"data_prep\"></a>\n",
    "\n",
    "<hr style=\"border:01px  solid gray\"> </hr>\n",
    "\n",
    "\n",
    "In this section, we will be performing data preparation steps like the below: \n",
    "1. [Check for null values](#null)\n",
    "2. [Check for outliers](#outliers)\n",
    "3. [Check for target variable distribution](#imb)\n",
    "4. [Check the distribution of data using histograms](#hist)\n",
    "\n",
    "\n",
    "***"
   ]
  },
  {
   "cell_type": "markdown",
   "id": "77f51913",
   "metadata": {},
   "source": [
    "### 1. Check for NULL , Nan and missing values : <a name=\"null\"></a>"
   ]
  },
  {
   "cell_type": "code",
   "execution_count": 10,
   "id": "bc17d5ea",
   "metadata": {},
   "outputs": [
    {
     "data": {
      "text/plain": [
       "Channel             0\n",
       "Region              0\n",
       "Fresh               0\n",
       "Milk                0\n",
       "Grocery             0\n",
       "Frozen              0\n",
       "Detergents_Paper    0\n",
       "Delicassen          0\n",
       "dtype: int64"
      ]
     },
     "execution_count": 10,
     "metadata": {},
     "output_type": "execute_result"
    }
   ],
   "source": [
    "#check for null values\n",
    "df.isnull().sum()"
   ]
  },
  {
   "cell_type": "code",
   "execution_count": 11,
   "id": "42488cb9",
   "metadata": {},
   "outputs": [
    {
     "data": {
      "text/plain": [
       "Channel             0\n",
       "Region              0\n",
       "Fresh               0\n",
       "Milk                0\n",
       "Grocery             0\n",
       "Frozen              0\n",
       "Detergents_Paper    0\n",
       "Delicassen          0\n",
       "dtype: int64"
      ]
     },
     "execution_count": 11,
     "metadata": {},
     "output_type": "execute_result"
    }
   ],
   "source": [
    "#check for Nan values\n",
    "df.isna().sum()\n"
   ]
  },
  {
   "cell_type": "code",
   "execution_count": 12,
   "id": "87d3cdc8",
   "metadata": {},
   "outputs": [
    {
     "name": "stdout",
     "output_type": "stream",
     "text": [
      "CHECK FOR DUPLICATE VALUES:\n",
      " False    440\n",
      "dtype: int64\n"
     ]
    }
   ],
   "source": [
    "#duplicate values are checked for :\n",
    "print(\"CHECK FOR DUPLICATE VALUES:\\n\",df.duplicated().value_counts())"
   ]
  },
  {
   "cell_type": "markdown",
   "id": "642a6c62",
   "metadata": {},
   "source": [
    "***\n",
    "\n",
    "<b>OBSERVATION:</b> \n",
    "\n",
    "* The above cells shows there is no missing value and no Nan, in the dataset indicating it's a clean dataset. \n",
    "* Duplicate values were also not found.  In `cell 12`, bool value `False = 440`is  returned.\n",
    "\n",
    "***"
   ]
  },
  {
   "cell_type": "markdown",
   "id": "818cb2e9",
   "metadata": {},
   "source": [
    "###  2. Check for Outliers : <a name=\"outliers\"></a>"
   ]
  },
  {
   "cell_type": "code",
   "execution_count": 13,
   "id": "76b9ace0",
   "metadata": {},
   "outputs": [
    {
     "name": "stdout",
     "output_type": "stream",
     "text": [
      "Found 0 outliers in the entire dataset.\n"
     ]
    }
   ],
   "source": [
    "# #Outlier detection\n",
    "from collections import Counter\n",
    "features = df.columns.values.tolist()\n",
    "outlier_index = list()\n",
    "\n",
    "for feature in features:\n",
    "    \n",
    "    q1 = np.percentile(df[feature], 25)\n",
    "    q3 = np.percentile(df[feature], 75)\n",
    "    \n",
    "    iqr = q3 - q1\n",
    "    \n",
    "    step = iqr * 1.5\n",
    "    \n",
    "    lower_bound = q1 - step\n",
    "    upper_bound = q3 + step\n",
    "    \n",
    "# List of indices where the attribute value lies outside the bounds\n",
    "feature_outliers = df[(df[feature] < lower_bound) | (df[feature] > upper_bound)].index\n",
    "outlier_index.extend(feature_outliers)\n",
    "outlier_index = Counter(outlier_index) \n",
    "outlier_list = [index for index, count in outlier_index.items() if count > 3]\n",
    "print(f\"Found {len(outlier_list)} outliers in the entire dataset.\")"
   ]
  },
  {
   "cell_type": "markdown",
   "id": "96414610",
   "metadata": {},
   "source": [
    "***\n",
    "\n",
    "<b>OBSERVATION:</b>\n",
    "\n",
    "* In this section, outlier check is done in the 25th ,75th percentile boundary. \n",
    "* `Cell13`, shows 0 outliers are present above the range 3. \n",
    "* The shape is 440. \n",
    "\n",
    "***"
   ]
  },
  {
   "cell_type": "markdown",
   "id": "994e90e0",
   "metadata": {},
   "source": [
    "### 3. Check for target variable distribution:\n",
    "\n",
    "<a name=\"imb\"></a>"
   ]
  },
  {
   "cell_type": "code",
   "execution_count": 14,
   "id": "6a238945",
   "metadata": {},
   "outputs": [
    {
     "data": {
      "text/plain": [
       "<AxesSubplot:xlabel='Channel', ylabel='count'>"
      ]
     },
     "execution_count": 14,
     "metadata": {},
     "output_type": "execute_result"
    },
    {
     "data": {
      "image/png": "[encoded data removed]",
      "text/plain": [
       "<Figure size 432x288 with 1 Axes>"
      ]
     },
     "metadata": {
      "needs_background": "light"
     },
     "output_type": "display_data"
    }
   ],
   "source": [
    "# To check for class imabalance distribution in target variable'Channel'\n",
    "sns.countplot(x ='Channel' , data=df, palette=\"Accent\" )\n",
    "\n",
    "\n"
   ]
  },
  {
   "cell_type": "code",
   "execution_count": 15,
   "id": "1d995b27",
   "metadata": {},
   "outputs": [
    {
     "data": {
      "text/plain": [
       "<AxesSubplot:xlabel='Channel', ylabel='Density'>"
      ]
     },
     "execution_count": 15,
     "metadata": {},
     "output_type": "execute_result"
    },
    {
     "data": {
      "image/png": "[encoded data removed]",
      "text/plain": [
       "<Figure size 432x288 with 1 Axes>"
      ]
     },
     "metadata": {
      "needs_background": "light"
     },
     "output_type": "display_data"
    }
   ],
   "source": [
    "#checking  the frequency of the target variable- Quality\n",
    "sns.distplot(df['Channel'], color= \"gray\")"
   ]
  },
  {
   "cell_type": "markdown",
   "id": "7ff6f600",
   "metadata": {},
   "source": [
    "***\n",
    "<b>OBSERVATION:</b>\n",
    "\n",
    "1. We have used a `distplot`, to depict the variations in the target variable- `Channel`. \n",
    "    * We observe that the dirstibution is more concentrated between 1- 1.25  and 1.75-2.0.\n",
    "\n",
    "2. Next, to view the class imbalance, `countplot` is used.\n",
    "    * It depicts that 1 has 298 and 2 has 142.\n",
    " \n",
    "    \n",
    "***"
   ]
  },
  {
   "cell_type": "markdown",
   "id": "9afa93c6",
   "metadata": {},
   "source": [
    "### 4. Histogram Plots:\n",
    "\n",
    "<a name=\"hist\"></a>"
   ]
  },
  {
   "cell_type": "code",
   "execution_count": 16,
   "id": "f1f4c8ae",
   "metadata": {},
   "outputs": [
    {
     "data": {
      "image/png": "[encoded data removed]",
      "text/plain": [
       "<Figure size 432x288 with 1 Axes>"
      ]
     },
     "metadata": {
      "needs_background": "light"
     },
     "output_type": "display_data"
    },
    {
     "data": {
      "image/png": "[encoded data removed]",
      "text/plain": [
       "<Figure size 432x288 with 1 Axes>"
      ]
     },
     "metadata": {
      "needs_background": "light"
     },
     "output_type": "display_data"
    },
    {
     "data": {
      "image/png": "[encoded data removed]",
      "text/plain": [
       "<Figure size 432x288 with 1 Axes>"
      ]
     },
     "metadata": {
      "needs_background": "light"
     },
     "output_type": "display_data"
    },
    {
     "data": {
      "image/png": "[encoded data removed]",
      "text/plain": [
       "<Figure size 432x288 with 1 Axes>"
      ]
     },
     "metadata": {
      "needs_background": "light"
     },
     "output_type": "display_data"
    },
    {
     "data": {
      "image/png": "[encoded data removed]",
      "text/plain": [
       "<Figure size 432x288 with 1 Axes>"
      ]
     },
     "metadata": {
      "needs_background": "light"
     },
     "output_type": "display_data"
    },
    {
     "data": {
      "image/png": "[encoded data removed]",
      "text/plain": [
       "<Figure size 432x288 with 1 Axes>"
      ]
     },
     "metadata": {
      "needs_background": "light"
     },
     "output_type": "display_data"
    }
   ],
   "source": [
    "#histogram plotting using pandas\n",
    "\n",
    "for feature in [\"Fresh\" , \"Milk\", \"Grocery\",\"Frozen\",\"Detergents_Paper\" , \"Delicassen\"]:\n",
    "    sns.distplot(df[feature], kde=True)\n",
    "    plt.title('Histogram for {}'.format(feature))\n",
    "    plt.show()"
   ]
  },
  {
   "cell_type": "markdown",
   "id": "5ee3290b",
   "metadata": {},
   "source": [
    "***\n",
    "\n",
    "<b>OBSERVATION:</b>\n",
    "\n",
    "From the above kde histogram, \n",
    "* We can infer that, most of the features are not evenly distributed. \n",
    "* Most of the features exhibits highest right skewness, from `cell 16`\n",
    "* No signs of normal distribution.\n",
    "* Kde hist plot is used.\n",
    "\n",
    "<u>**NOTE**</u> Transforming the features would be mandatory to bring them in range prior prediction because of uneven distribution of the monetary units.\n",
    "\n",
    "\n",
    "\n",
    "***"
   ]
  },
  {
   "cell_type": "markdown",
   "id": "2613b7c8",
   "metadata": {},
   "source": [
    "<hr style=\"border:01px  solid gray\"> </hr>\n",
    "\n",
    "## <center> FEATURE SCALING<a name=\"sf\"></a>\n",
    "\n",
    "<hr style=\"border:01px  solid gray\"> </hr>\n",
    "\n",
    "\n",
    "In this section, we will be applying both StandardSCaler and MinMAxScaler to check which best suits the model. \n",
    "1. [Standard Scaler](#SLR)\n",
    "2. [MinMAx Scaler](#mm)\n",
    "3. [Visulaizing original, scaled and normalized data](#sn)\n",
    "4. [BoxCox Transformation](#bx)"
   ]
  },
  {
   "cell_type": "code",
   "execution_count": 17,
   "id": "35b7fb9f",
   "metadata": {},
   "outputs": [],
   "source": [
    "ds = df.copy()"
   ]
  },
  {
   "cell_type": "code",
   "execution_count": 18,
   "id": "4eb37920",
   "metadata": {},
   "outputs": [
    {
     "data": {
      "text/html": [
       "<div>\n",
       "<style scoped>\n",
       "    .dataframe tbody tr th:only-of-type {\n",
       "        vertical-align: middle;\n",
       "    }\n",
       "\n",
       "    .dataframe tbody tr th {\n",
       "        vertical-align: top;\n",
       "    }\n",
       "\n",
       "    .dataframe thead th {\n",
       "        text-align: right;\n",
       "    }\n",
       "</style>\n",
       "<table border=\"1\" class=\"dataframe\">\n",
       "  <thead>\n",
       "    <tr style=\"text-align: right;\">\n",
       "      <th></th>\n",
       "      <th>Fresh</th>\n",
       "      <th>Milk</th>\n",
       "      <th>Grocery</th>\n",
       "      <th>Frozen</th>\n",
       "      <th>Detergents_Paper</th>\n",
       "      <th>Delicassen</th>\n",
       "    </tr>\n",
       "  </thead>\n",
       "  <tbody>\n",
       "    <tr>\n",
       "      <th>0</th>\n",
       "      <td>12669</td>\n",
       "      <td>9656</td>\n",
       "      <td>7561</td>\n",
       "      <td>214</td>\n",
       "      <td>2674</td>\n",
       "      <td>1338</td>\n",
       "    </tr>\n",
       "    <tr>\n",
       "      <th>1</th>\n",
       "      <td>7057</td>\n",
       "      <td>9810</td>\n",
       "      <td>9568</td>\n",
       "      <td>1762</td>\n",
       "      <td>3293</td>\n",
       "      <td>1776</td>\n",
       "    </tr>\n",
       "    <tr>\n",
       "      <th>2</th>\n",
       "      <td>6353</td>\n",
       "      <td>8808</td>\n",
       "      <td>7684</td>\n",
       "      <td>2405</td>\n",
       "      <td>3516</td>\n",
       "      <td>7844</td>\n",
       "    </tr>\n",
       "    <tr>\n",
       "      <th>3</th>\n",
       "      <td>13265</td>\n",
       "      <td>1196</td>\n",
       "      <td>4221</td>\n",
       "      <td>6404</td>\n",
       "      <td>507</td>\n",
       "      <td>1788</td>\n",
       "    </tr>\n",
       "    <tr>\n",
       "      <th>4</th>\n",
       "      <td>22615</td>\n",
       "      <td>5410</td>\n",
       "      <td>7198</td>\n",
       "      <td>3915</td>\n",
       "      <td>1777</td>\n",
       "      <td>5185</td>\n",
       "    </tr>\n",
       "  </tbody>\n",
       "</table>\n",
       "</div>"
      ],
      "text/plain": [
       "   Fresh  Milk  Grocery  Frozen  Detergents_Paper  Delicassen\n",
       "0  12669  9656     7561     214              2674        1338\n",
       "1   7057  9810     9568    1762              3293        1776\n",
       "2   6353  8808     7684    2405              3516        7844\n",
       "3  13265  1196     4221    6404               507        1788\n",
       "4  22615  5410     7198    3915              1777        5185"
      ]
     },
     "execution_count": 18,
     "metadata": {},
     "output_type": "execute_result"
    }
   ],
   "source": [
    "ds = ds.drop(ds[['Channel' , 'Region']], axis = 1)\n",
    "ds.head()"
   ]
  },
  {
   "cell_type": "code",
   "execution_count": 19,
   "id": "7bd852a3",
   "metadata": {},
   "outputs": [
    {
     "data": {
      "text/plain": [
       "<AxesSubplot:title={'center':'BEFORE SCALING'}, ylabel='Density'>"
      ]
     },
     "execution_count": 19,
     "metadata": {},
     "output_type": "execute_result"
    },
    {
     "data": {
      "image/png": "[encoded data removed]",
      "text/plain": [
       "<Figure size 432x288 with 1 Axes>"
      ]
     },
     "metadata": {
      "needs_background": "light"
     },
     "output_type": "display_data"
    }
   ],
   "source": [
    "ds.plot(kind='kde' ,title = 'BEFORE SCALING')\n"
   ]
  },
  {
   "cell_type": "markdown",
   "id": "8d740dfd",
   "metadata": {},
   "source": [
    "### 1.Applying StandarScaler<a name=\"SLR\"></a>"
   ]
  },
  {
   "cell_type": "code",
   "execution_count": 20,
   "id": "72892f8e",
   "metadata": {},
   "outputs": [],
   "source": [
    "#importing standard scaler\n",
    "from sklearn.preprocessing import StandardScaler\n",
    "\n",
    "ds_scal = ds.copy()\n",
    "scaled_data = StandardScaler().fit_transform(ds_scal)\n",
    "scaled_data[:5]\n",
    "\n",
    "scaled1 = pd.DataFrame(scaled_data)"
   ]
  },
  {
   "cell_type": "code",
   "execution_count": 21,
   "id": "8fa279e9",
   "metadata": {},
   "outputs": [
    {
     "data": {
      "text/plain": [
       "<AxesSubplot:title={'center':'AFTER SCALING'}, ylabel='Density'>"
      ]
     },
     "execution_count": 21,
     "metadata": {},
     "output_type": "execute_result"
    },
    {
     "data": {
      "image/png": "[encoded data removed]",
      "text/plain": [
       "<Figure size 432x288 with 1 Axes>"
      ]
     },
     "metadata": {
      "needs_background": "light"
     },
     "output_type": "display_data"
    }
   ],
   "source": [
    "scaled1.plot(kind='kde' ,title = 'AFTER SCALING' )"
   ]
  },
  {
   "cell_type": "code",
   "execution_count": 22,
   "id": "d28e251b",
   "metadata": {},
   "outputs": [
    {
     "data": {
      "text/html": [
       "<div>\n",
       "<style scoped>\n",
       "    .dataframe tbody tr th:only-of-type {\n",
       "        vertical-align: middle;\n",
       "    }\n",
       "\n",
       "    .dataframe tbody tr th {\n",
       "        vertical-align: top;\n",
       "    }\n",
       "\n",
       "    .dataframe thead th {\n",
       "        text-align: right;\n",
       "    }\n",
       "</style>\n",
       "<table border=\"1\" class=\"dataframe\">\n",
       "  <thead>\n",
       "    <tr style=\"text-align: right;\">\n",
       "      <th></th>\n",
       "      <th>0</th>\n",
       "      <th>1</th>\n",
       "      <th>2</th>\n",
       "      <th>3</th>\n",
       "      <th>4</th>\n",
       "      <th>5</th>\n",
       "    </tr>\n",
       "  </thead>\n",
       "  <tbody>\n",
       "    <tr>\n",
       "      <th>count</th>\n",
       "      <td>4.400000e+02</td>\n",
       "      <td>4.400000e+02</td>\n",
       "      <td>4.400000e+02</td>\n",
       "      <td>4.400000e+02</td>\n",
       "      <td>4.400000e+02</td>\n",
       "      <td>4.400000e+02</td>\n",
       "    </tr>\n",
       "    <tr>\n",
       "      <th>mean</th>\n",
       "      <td>-2.422305e-17</td>\n",
       "      <td>-1.589638e-17</td>\n",
       "      <td>-6.030530e-17</td>\n",
       "      <td>1.135455e-17</td>\n",
       "      <td>-1.917658e-17</td>\n",
       "      <td>-8.276208e-17</td>\n",
       "    </tr>\n",
       "    <tr>\n",
       "      <th>std</th>\n",
       "      <td>1.001138e+00</td>\n",
       "      <td>1.001138e+00</td>\n",
       "      <td>1.001138e+00</td>\n",
       "      <td>1.001138e+00</td>\n",
       "      <td>1.001138e+00</td>\n",
       "      <td>1.001138e+00</td>\n",
       "    </tr>\n",
       "    <tr>\n",
       "      <th>min</th>\n",
       "      <td>-9.496831e-01</td>\n",
       "      <td>-7.787951e-01</td>\n",
       "      <td>-8.373344e-01</td>\n",
       "      <td>-6.283430e-01</td>\n",
       "      <td>-6.044165e-01</td>\n",
       "      <td>-5.402644e-01</td>\n",
       "    </tr>\n",
       "    <tr>\n",
       "      <th>25%</th>\n",
       "      <td>-7.023339e-01</td>\n",
       "      <td>-5.783063e-01</td>\n",
       "      <td>-6.108364e-01</td>\n",
       "      <td>-4.804306e-01</td>\n",
       "      <td>-5.511349e-01</td>\n",
       "      <td>-3.964005e-01</td>\n",
       "    </tr>\n",
       "    <tr>\n",
       "      <th>50%</th>\n",
       "      <td>-2.767602e-01</td>\n",
       "      <td>-2.942580e-01</td>\n",
       "      <td>-3.366684e-01</td>\n",
       "      <td>-3.188045e-01</td>\n",
       "      <td>-4.336004e-01</td>\n",
       "      <td>-1.985766e-01</td>\n",
       "    </tr>\n",
       "    <tr>\n",
       "      <th>75%</th>\n",
       "      <td>3.905226e-01</td>\n",
       "      <td>1.890921e-01</td>\n",
       "      <td>2.849105e-01</td>\n",
       "      <td>9.946441e-02</td>\n",
       "      <td>2.184822e-01</td>\n",
       "      <td>1.048598e-01</td>\n",
       "    </tr>\n",
       "    <tr>\n",
       "      <th>max</th>\n",
       "      <td>7.927738e+00</td>\n",
       "      <td>9.183650e+00</td>\n",
       "      <td>8.936528e+00</td>\n",
       "      <td>1.191900e+01</td>\n",
       "      <td>7.967672e+00</td>\n",
       "      <td>1.647845e+01</td>\n",
       "    </tr>\n",
       "  </tbody>\n",
       "</table>\n",
       "</div>"
      ],
      "text/plain": [
       "                  0             1             2             3             4  \\\n",
       "count  4.400000e+02  4.400000e+02  4.400000e+02  4.400000e+02  4.400000e+02   \n",
       "mean  -2.422305e-17 -1.589638e-17 -6.030530e-17  1.135455e-17 -1.917658e-17   \n",
       "std    1.001138e+00  1.001138e+00  1.001138e+00  1.001138e+00  1.001138e+00   \n",
       "min   -9.496831e-01 -7.787951e-01 -8.373344e-01 -6.283430e-01 -6.044165e-01   \n",
       "25%   -7.023339e-01 -5.783063e-01 -6.108364e-01 -4.804306e-01 -5.511349e-01   \n",
       "50%   -2.767602e-01 -2.942580e-01 -3.366684e-01 -3.188045e-01 -4.336004e-01   \n",
       "75%    3.905226e-01  1.890921e-01  2.849105e-01  9.946441e-02  2.184822e-01   \n",
       "max    7.927738e+00  9.183650e+00  8.936528e+00  1.191900e+01  7.967672e+00   \n",
       "\n",
       "                  5  \n",
       "count  4.400000e+02  \n",
       "mean  -8.276208e-17  \n",
       "std    1.001138e+00  \n",
       "min   -5.402644e-01  \n",
       "25%   -3.964005e-01  \n",
       "50%   -1.985766e-01  \n",
       "75%    1.048598e-01  \n",
       "max    1.647845e+01  "
      ]
     },
     "execution_count": 22,
     "metadata": {},
     "output_type": "execute_result"
    }
   ],
   "source": [
    "scaled1.describe()"
   ]
  },
  {
   "cell_type": "markdown",
   "id": "b8882946",
   "metadata": {},
   "source": [
    "### 2.Applying MinMAxScaler<a name=\"mm\"></a>"
   ]
  },
  {
   "cell_type": "code",
   "execution_count": 23,
   "id": "20adea2a",
   "metadata": {},
   "outputs": [],
   "source": [
    "#MinMAx Scaler\n",
    "from sklearn.preprocessing import MinMaxScaler\n",
    "\n",
    "ds_norm = ds.copy()\n",
    "norm_data = MinMaxScaler().fit_transform(ds_norm)\n",
    "norm_data[:5]\n",
    "norm1 = pd.DataFrame(norm_data)"
   ]
  },
  {
   "cell_type": "code",
   "execution_count": 24,
   "id": "c9e8f046",
   "metadata": {},
   "outputs": [
    {
     "data": {
      "text/plain": [
       "<AxesSubplot:title={'center':'AFTER NORMALIZING'}, ylabel='Density'>"
      ]
     },
     "execution_count": 24,
     "metadata": {},
     "output_type": "execute_result"
    },
    {
     "data": {
      "image/png": "[encoded data removed]",
      "text/plain": [
       "<Figure size 432x288 with 1 Axes>"
      ]
     },
     "metadata": {
      "needs_background": "light"
     },
     "output_type": "display_data"
    }
   ],
   "source": [
    "norm1.plot(kind='kde' , title = 'AFTER NORMALIZING')"
   ]
  },
  {
   "cell_type": "code",
   "execution_count": 25,
   "id": "95614255",
   "metadata": {},
   "outputs": [
    {
     "data": {
      "text/html": [
       "<div>\n",
       "<style scoped>\n",
       "    .dataframe tbody tr th:only-of-type {\n",
       "        vertical-align: middle;\n",
       "    }\n",
       "\n",
       "    .dataframe tbody tr th {\n",
       "        vertical-align: top;\n",
       "    }\n",
       "\n",
       "    .dataframe thead th {\n",
       "        text-align: right;\n",
       "    }\n",
       "</style>\n",
       "<table border=\"1\" class=\"dataframe\">\n",
       "  <thead>\n",
       "    <tr style=\"text-align: right;\">\n",
       "      <th></th>\n",
       "      <th>0</th>\n",
       "      <th>1</th>\n",
       "      <th>2</th>\n",
       "      <th>3</th>\n",
       "      <th>4</th>\n",
       "      <th>5</th>\n",
       "    </tr>\n",
       "  </thead>\n",
       "  <tbody>\n",
       "    <tr>\n",
       "      <th>count</th>\n",
       "      <td>440.000000</td>\n",
       "      <td>440.000000</td>\n",
       "      <td>440.000000</td>\n",
       "      <td>440.000000</td>\n",
       "      <td>440.000000</td>\n",
       "      <td>440.000000</td>\n",
       "    </tr>\n",
       "    <tr>\n",
       "      <th>mean</th>\n",
       "      <td>0.106977</td>\n",
       "      <td>0.078173</td>\n",
       "      <td>0.085671</td>\n",
       "      <td>0.050078</td>\n",
       "      <td>0.070510</td>\n",
       "      <td>0.031745</td>\n",
       "    </tr>\n",
       "    <tr>\n",
       "      <th>std</th>\n",
       "      <td>0.112774</td>\n",
       "      <td>0.100491</td>\n",
       "      <td>0.102430</td>\n",
       "      <td>0.079789</td>\n",
       "      <td>0.116790</td>\n",
       "      <td>0.058826</td>\n",
       "    </tr>\n",
       "    <tr>\n",
       "      <th>min</th>\n",
       "      <td>0.000000</td>\n",
       "      <td>0.000000</td>\n",
       "      <td>0.000000</td>\n",
       "      <td>0.000000</td>\n",
       "      <td>0.000000</td>\n",
       "      <td>0.000000</td>\n",
       "    </tr>\n",
       "    <tr>\n",
       "      <th>25%</th>\n",
       "      <td>0.027863</td>\n",
       "      <td>0.020124</td>\n",
       "      <td>0.023174</td>\n",
       "      <td>0.011788</td>\n",
       "      <td>0.006216</td>\n",
       "      <td>0.008453</td>\n",
       "    </tr>\n",
       "    <tr>\n",
       "      <th>50%</th>\n",
       "      <td>0.075802</td>\n",
       "      <td>0.048636</td>\n",
       "      <td>0.051225</td>\n",
       "      <td>0.024670</td>\n",
       "      <td>0.019927</td>\n",
       "      <td>0.020077</td>\n",
       "    </tr>\n",
       "    <tr>\n",
       "      <th>75%</th>\n",
       "      <td>0.150968</td>\n",
       "      <td>0.097154</td>\n",
       "      <td>0.114821</td>\n",
       "      <td>0.058005</td>\n",
       "      <td>0.095997</td>\n",
       "      <td>0.037907</td>\n",
       "    </tr>\n",
       "    <tr>\n",
       "      <th>max</th>\n",
       "      <td>1.000000</td>\n",
       "      <td>1.000000</td>\n",
       "      <td>1.000000</td>\n",
       "      <td>1.000000</td>\n",
       "      <td>1.000000</td>\n",
       "      <td>1.000000</td>\n",
       "    </tr>\n",
       "  </tbody>\n",
       "</table>\n",
       "</div>"
      ],
      "text/plain": [
       "                0           1           2           3           4           5\n",
       "count  440.000000  440.000000  440.000000  440.000000  440.000000  440.000000\n",
       "mean     0.106977    0.078173    0.085671    0.050078    0.070510    0.031745\n",
       "std      0.112774    0.100491    0.102430    0.079789    0.116790    0.058826\n",
       "min      0.000000    0.000000    0.000000    0.000000    0.000000    0.000000\n",
       "25%      0.027863    0.020124    0.023174    0.011788    0.006216    0.008453\n",
       "50%      0.075802    0.048636    0.051225    0.024670    0.019927    0.020077\n",
       "75%      0.150968    0.097154    0.114821    0.058005    0.095997    0.037907\n",
       "max      1.000000    1.000000    1.000000    1.000000    1.000000    1.000000"
      ]
     },
     "execution_count": 25,
     "metadata": {},
     "output_type": "execute_result"
    }
   ],
   "source": [
    "norm1.describe()\n"
   ]
  },
  {
   "cell_type": "markdown",
   "id": "6a6c4c79",
   "metadata": {},
   "source": [
    "### 3.Visualizing the original and transformed  data<a name=\"sn\"></a>"
   ]
  },
  {
   "cell_type": "code",
   "execution_count": 26,
   "id": "7a8a275a",
   "metadata": {},
   "outputs": [
    {
     "data": {
      "image/png": "[encoded data removed]",
      "text/plain": [
       "<Figure size 432x288 with 1 Axes>"
      ]
     },
     "metadata": {
      "needs_background": "light"
     },
     "output_type": "display_data"
    },
    {
     "data": {
      "image/png": "[encoded data removed]",
      "text/plain": [
       "<Figure size 432x288 with 1 Axes>"
      ]
     },
     "metadata": {
      "needs_background": "light"
     },
     "output_type": "display_data"
    },
    {
     "data": {
      "image/png": "[encoded data removed]",
      "text/plain": [
       "<Figure size 432x288 with 1 Axes>"
      ]
     },
     "metadata": {
      "needs_background": "light"
     },
     "output_type": "display_data"
    }
   ],
   "source": [
    "sns.distplot(ds['Milk'], kde=True)\n",
    "plt.title('Histogram of original data')\n",
    "plt.show()\n",
    "\n",
    "\n",
    "sns.distplot(scaled1[1], kde=True)\n",
    "plt.title('Histogram of Scaled Data' )\n",
    "plt.show()\n",
    "\n",
    "\n",
    "sns.distplot(norm1[1], kde=True)\n",
    "plt.title('Histogram of Normalized data')\n",
    "plt.show()"
   ]
  },
  {
   "cell_type": "code",
   "execution_count": 27,
   "id": "5dfbd602",
   "metadata": {},
   "outputs": [
    {
     "data": {
      "image/png": "[encoded data removed]",
      "text/plain": [
       "<Figure size 432x288 with 1 Axes>"
      ]
     },
     "metadata": {
      "needs_background": "light"
     },
     "output_type": "display_data"
    },
    {
     "data": {
      "image/png": "[encoded data removed]",
      "text/plain": [
       "<Figure size 432x288 with 1 Axes>"
      ]
     },
     "metadata": {
      "needs_background": "light"
     },
     "output_type": "display_data"
    },
    {
     "data": {
      "image/png": "[encoded data removed]",
      "text/plain": [
       "<Figure size 432x288 with 1 Axes>"
      ]
     },
     "metadata": {
      "needs_background": "light"
     },
     "output_type": "display_data"
    }
   ],
   "source": [
    "smq.qqplot(df[\"Milk\"], line ='r')\n",
    "plt.title(\"Original data - Milk\")\n",
    "plt.show()\n",
    "\n",
    "smq.qqplot(scaled1[1], line ='r')\n",
    "plt.title('Scaled data : Milk')\n",
    "plt.show()\n",
    "\n",
    "smq.qqplot(norm1[1],  line ='r')\n",
    "plt.title('Normalized data : Milk')\n",
    "plt.show()\n"
   ]
  },
  {
   "cell_type": "markdown",
   "id": "c7ce98ba",
   "metadata": {},
   "source": [
    "<hr style=\"border:.03px  solid black\"> </hr>\n",
    "\n",
    "**OBSERVATION**\n",
    "\n",
    "* We will be using **standard Scaler** as we have to scale monetary units of same range. From  kde, we can infer that it is within a range unlike MinMAx which is elongated. \n",
    "* Also as we are using k-means, i.e., Euclidean distance based measurement ,we need to standardize the weights(region and price).\n",
    "\n",
    "* Additionally, standarizaton handles outliers well unlike normalization.Also Scaler helps to to have the same weightage. They are all similar features, that is currency and not different features like age, income which will cost he model. Hence StandardSCaler is being used her. \n",
    "\n",
    "NOTE: But we also , observe that from `cell 26` and `cell 27`, neither standardScaler and MinMax has helped to overcom the scaling. Therefore we will be using BoxCOx with standardScaler to bring them within range . \n",
    "\n",
    "<hr style=\"border:.03px  solid black\"> </hr>\n"
   ]
  },
  {
   "cell_type": "markdown",
   "id": "f5748527",
   "metadata": {},
   "source": [
    "### 4.Applying BoxCox Transformation<a name=\"bx\"></a>"
   ]
  },
  {
   "cell_type": "code",
   "execution_count": 28,
   "id": "3b833f2b",
   "metadata": {},
   "outputs": [
    {
     "data": {
      "text/html": [
       "<div>\n",
       "<style scoped>\n",
       "    .dataframe tbody tr th:only-of-type {\n",
       "        vertical-align: middle;\n",
       "    }\n",
       "\n",
       "    .dataframe tbody tr th {\n",
       "        vertical-align: top;\n",
       "    }\n",
       "\n",
       "    .dataframe thead th {\n",
       "        text-align: right;\n",
       "    }\n",
       "</style>\n",
       "<table border=\"1\" class=\"dataframe\">\n",
       "  <thead>\n",
       "    <tr style=\"text-align: right;\">\n",
       "      <th></th>\n",
       "      <th>Fresh</th>\n",
       "      <th>Milk</th>\n",
       "      <th>Grocery</th>\n",
       "      <th>Frozen</th>\n",
       "      <th>Detergents_Paper</th>\n",
       "      <th>Delicassen</th>\n",
       "    </tr>\n",
       "  </thead>\n",
       "  <tbody>\n",
       "    <tr>\n",
       "      <th>435</th>\n",
       "      <td>29703</td>\n",
       "      <td>12051</td>\n",
       "      <td>16027</td>\n",
       "      <td>13135</td>\n",
       "      <td>182</td>\n",
       "      <td>2204</td>\n",
       "    </tr>\n",
       "    <tr>\n",
       "      <th>436</th>\n",
       "      <td>39228</td>\n",
       "      <td>1431</td>\n",
       "      <td>764</td>\n",
       "      <td>4510</td>\n",
       "      <td>93</td>\n",
       "      <td>2346</td>\n",
       "    </tr>\n",
       "    <tr>\n",
       "      <th>437</th>\n",
       "      <td>14531</td>\n",
       "      <td>15488</td>\n",
       "      <td>30243</td>\n",
       "      <td>437</td>\n",
       "      <td>14841</td>\n",
       "      <td>1867</td>\n",
       "    </tr>\n",
       "    <tr>\n",
       "      <th>438</th>\n",
       "      <td>10290</td>\n",
       "      <td>1981</td>\n",
       "      <td>2232</td>\n",
       "      <td>1038</td>\n",
       "      <td>168</td>\n",
       "      <td>2125</td>\n",
       "    </tr>\n",
       "    <tr>\n",
       "      <th>439</th>\n",
       "      <td>2787</td>\n",
       "      <td>1698</td>\n",
       "      <td>2510</td>\n",
       "      <td>65</td>\n",
       "      <td>477</td>\n",
       "      <td>52</td>\n",
       "    </tr>\n",
       "  </tbody>\n",
       "</table>\n",
       "</div>"
      ],
      "text/plain": [
       "     Fresh   Milk  Grocery  Frozen  Detergents_Paper  Delicassen\n",
       "435  29703  12051    16027   13135               182        2204\n",
       "436  39228   1431      764    4510                93        2346\n",
       "437  14531  15488    30243     437             14841        1867\n",
       "438  10290   1981     2232    1038               168        2125\n",
       "439   2787   1698     2510      65               477          52"
      ]
     },
     "execution_count": 28,
     "metadata": {},
     "output_type": "execute_result"
    }
   ],
   "source": [
    "box_scal = df.copy()\n",
    "box_scal = box_scal.drop(box_scal[[\"Channel\" , \"Region\"]] , axis= 1)\n",
    "box_scal.tail(5)"
   ]
  },
  {
   "cell_type": "code",
   "execution_count": 29,
   "id": "3817a409",
   "metadata": {},
   "outputs": [
    {
     "data": {
      "text/html": [
       "<div>\n",
       "<style scoped>\n",
       "    .dataframe tbody tr th:only-of-type {\n",
       "        vertical-align: middle;\n",
       "    }\n",
       "\n",
       "    .dataframe tbody tr th {\n",
       "        vertical-align: top;\n",
       "    }\n",
       "\n",
       "    .dataframe thead th {\n",
       "        text-align: right;\n",
       "    }\n",
       "</style>\n",
       "<table border=\"1\" class=\"dataframe\">\n",
       "  <thead>\n",
       "    <tr style=\"text-align: right;\">\n",
       "      <th></th>\n",
       "      <th>Fresh</th>\n",
       "      <th>Milk</th>\n",
       "      <th>Grocery</th>\n",
       "      <th>Frozen</th>\n",
       "      <th>Detergents_Paper</th>\n",
       "      <th>Delicassen</th>\n",
       "    </tr>\n",
       "  </thead>\n",
       "  <tbody>\n",
       "    <tr>\n",
       "      <th>0</th>\n",
       "      <td>0.412646</td>\n",
       "      <td>0.979303</td>\n",
       "      <td>0.392937</td>\n",
       "      <td>-1.456705</td>\n",
       "      <td>0.617238</td>\n",
       "      <td>0.335779</td>\n",
       "    </tr>\n",
       "    <tr>\n",
       "      <th>1</th>\n",
       "      <td>-0.111180</td>\n",
       "      <td>0.995096</td>\n",
       "      <td>0.626729</td>\n",
       "      <td>0.079718</td>\n",
       "      <td>0.748629</td>\n",
       "      <td>0.599877</td>\n",
       "    </tr>\n",
       "    <tr>\n",
       "      <th>2</th>\n",
       "      <td>-0.196043</td>\n",
       "      <td>0.887891</td>\n",
       "      <td>0.408738</td>\n",
       "      <td>0.331996</td>\n",
       "      <td>0.790324</td>\n",
       "      <td>2.245295</td>\n",
       "    </tr>\n",
       "    <tr>\n",
       "      <th>3</th>\n",
       "      <td>0.457763</td>\n",
       "      <td>-0.965094</td>\n",
       "      <td>-0.156523</td>\n",
       "      <td>1.173643</td>\n",
       "      <td>-0.373844</td>\n",
       "      <td>0.606332</td>\n",
       "    </tr>\n",
       "    <tr>\n",
       "      <th>4</th>\n",
       "      <td>1.028704</td>\n",
       "      <td>0.412455</td>\n",
       "      <td>0.344961</td>\n",
       "      <td>0.741520</td>\n",
       "      <td>0.364211</td>\n",
       "      <td>1.738881</td>\n",
       "    </tr>\n",
       "    <tr>\n",
       "      <th>...</th>\n",
       "      <td>...</td>\n",
       "      <td>...</td>\n",
       "      <td>...</td>\n",
       "      <td>...</td>\n",
       "      <td>...</td>\n",
       "      <td>...</td>\n",
       "    </tr>\n",
       "    <tr>\n",
       "      <th>435</th>\n",
       "      <td>1.357112</td>\n",
       "      <td>1.201976</td>\n",
       "      <td>1.164326</td>\n",
       "      <td>1.839607</td>\n",
       "      <td>-0.935948</td>\n",
       "      <td>0.811050</td>\n",
       "    </tr>\n",
       "    <tr>\n",
       "      <th>436</th>\n",
       "      <td>1.720545</td>\n",
       "      <td>-0.808552</td>\n",
       "      <td>-1.550221</td>\n",
       "      <td>0.863813</td>\n",
       "      <td>-1.285593</td>\n",
       "      <td>0.873759</td>\n",
       "    </tr>\n",
       "    <tr>\n",
       "      <th>437</th>\n",
       "      <td>0.549059</td>\n",
       "      <td>1.458163</td>\n",
       "      <td>1.876742</td>\n",
       "      <td>-0.968503</td>\n",
       "      <td>1.750367</td>\n",
       "      <td>0.647978</td>\n",
       "    </tr>\n",
       "    <tr>\n",
       "      <th>438</th>\n",
       "      <td>0.216004</td>\n",
       "      <td>-0.519911</td>\n",
       "      <td>-0.712014</td>\n",
       "      <td>-0.333575</td>\n",
       "      <td>-0.978393</td>\n",
       "      <td>0.774734</td>\n",
       "    </tr>\n",
       "    <tr>\n",
       "      <th>439</th>\n",
       "      <td>-0.777509</td>\n",
       "      <td>-0.657504</td>\n",
       "      <td>-0.613053</td>\n",
       "      <td>-2.205142</td>\n",
       "      <td>-0.408309</td>\n",
       "      <td>-1.860675</td>\n",
       "    </tr>\n",
       "  </tbody>\n",
       "</table>\n",
       "<p>440 rows × 6 columns</p>\n",
       "</div>"
      ],
      "text/plain": [
       "        Fresh      Milk   Grocery    Frozen  Detergents_Paper  Delicassen\n",
       "0    0.412646  0.979303  0.392937 -1.456705          0.617238    0.335779\n",
       "1   -0.111180  0.995096  0.626729  0.079718          0.748629    0.599877\n",
       "2   -0.196043  0.887891  0.408738  0.331996          0.790324    2.245295\n",
       "3    0.457763 -0.965094 -0.156523  1.173643         -0.373844    0.606332\n",
       "4    1.028704  0.412455  0.344961  0.741520          0.364211    1.738881\n",
       "..        ...       ...       ...       ...               ...         ...\n",
       "435  1.357112  1.201976  1.164326  1.839607         -0.935948    0.811050\n",
       "436  1.720545 -0.808552 -1.550221  0.863813         -1.285593    0.873759\n",
       "437  0.549059  1.458163  1.876742 -0.968503          1.750367    0.647978\n",
       "438  0.216004 -0.519911 -0.712014 -0.333575         -0.978393    0.774734\n",
       "439 -0.777509 -0.657504 -0.613053 -2.205142         -0.408309   -1.860675\n",
       "\n",
       "[440 rows x 6 columns]"
      ]
     },
     "execution_count": 29,
     "metadata": {},
     "output_type": "execute_result"
    }
   ],
   "source": [
    "from sklearn.preprocessing import PowerTransformer, StandardScaler\n",
    "\n",
    "bc = PowerTransformer(method='box-cox')\n",
    "wholesale_boxcox = bc.fit_transform(box_scal)\n",
    "\n",
    "sc = StandardScaler()\n",
    "wholesale_processed = sc.fit_transform(wholesale_boxcox)\n",
    "\n",
    "wholesale_processed_df = pd.DataFrame(wholesale_processed, columns=box_scal.columns)\n",
    "wholesale_processed_df"
   ]
  },
  {
   "cell_type": "code",
   "execution_count": 30,
   "id": "573f604f",
   "metadata": {},
   "outputs": [
    {
     "data": {
      "image/png": "[encoded data removed]",
      "text/plain": [
       "<Figure size 432x288 with 1 Axes>"
      ]
     },
     "metadata": {
      "needs_background": "light"
     },
     "output_type": "display_data"
    },
    {
     "data": {
      "image/png": "[encoded data removed]",
      "text/plain": [
       "<Figure size 432x288 with 1 Axes>"
      ]
     },
     "metadata": {
      "needs_background": "light"
     },
     "output_type": "display_data"
    },
    {
     "data": {
      "image/png": "[encoded data removed]",
      "text/plain": [
       "<Figure size 432x288 with 1 Axes>"
      ]
     },
     "metadata": {
      "needs_background": "light"
     },
     "output_type": "display_data"
    },
    {
     "data": {
      "image/png": "[encoded data removed]",
      "text/plain": [
       "<Figure size 432x288 with 1 Axes>"
      ]
     },
     "metadata": {
      "needs_background": "light"
     },
     "output_type": "display_data"
    }
   ],
   "source": [
    "smq.qqplot(df[\"Milk\"], line ='r')\n",
    "plt.title(\"Original data - Milk\")\n",
    "plt.show()\n",
    "\n",
    "smq.qqplot(scaled1[1], line ='r')\n",
    "plt.title('Scaled data : Milk')\n",
    "plt.show()\n",
    "\n",
    "smq.qqplot(norm1[1],  line ='r')\n",
    "plt.title('Normalized data : Milk')\n",
    "plt.show()\n",
    "\n",
    "smq.qqplot(wholesale_processed_df[\"Milk\"], line ='r')\n",
    "plt.title('After BoxCox : Milk')\n",
    "plt.show()"
   ]
  },
  {
   "cell_type": "markdown",
   "id": "6d3d1b1d",
   "metadata": {},
   "source": [
    "***\n",
    "\n",
    "<b>OBSERVATION:</b>\n",
    "\n",
    "From the above histogram, \n",
    "* We can infer that,after boxcox, data fits well.\n",
    "* Now we are good to proceed with.\n",
    "***"
   ]
  },
  {
   "cell_type": "markdown",
   "id": "e0e8c069",
   "metadata": {},
   "source": [
    "\n",
    "<hr style=\"border:01px  solid gray\"> </hr>\n",
    "\n",
    "## <center>Ranking with recursive Feature Elimination and Cross-Validated selection (RFECV)</center> <a name=\"rfecv\"></a>\n",
    "\n",
    "<hr style=\"border:01px  solid gray\"> </hr>\n",
    "\n",
    "\n"
   ]
  },
  {
   "cell_type": "code",
   "execution_count": 31,
   "id": "2c09caff",
   "metadata": {},
   "outputs": [
    {
     "data": {
      "image/png": "[encoded data removed]",
      "text/plain": [
       "<Figure size 720x360 with 1 Axes>"
      ]
     },
     "metadata": {
      "needs_background": "light"
     },
     "output_type": "display_data"
    }
   ],
   "source": [
    "import matplotlib.pyplot as plt\n",
    "from sklearn.ensemble import RandomForestClassifier\n",
    "from sklearn.feature_selection import RFECV\n",
    "\n",
    "rf = RandomForestClassifier(max_depth=15, random_state=1)\n",
    "rfecv = RFECV(estimator=rf)\n",
    "rfecv.fit(wholesale_processed_df, df.Channel)\n",
    "\n",
    "# Plot number of features VS. cross-validation scores\n",
    "plt.figure(figsize=(10,5))\n",
    "plt.xlabel(\"Number of features selected\")\n",
    "plt.ylabel(\"Cross validation score (nb of correct classifications)\")\n",
    "plt.plot(range(1, len(rfecv.grid_scores_) + 1), rfecv.grid_scores_)\n",
    "plt.title(\"Optimal number of features : %d\" % rfecv.n_features_)\n",
    "plt.show()"
   ]
  },
  {
   "cell_type": "markdown",
   "id": "2f3a9d2b",
   "metadata": {},
   "source": [
    "***\n",
    "\n",
    "**OBSERVATION:**\n",
    "\n",
    "* RFECV is applied to find the optimal features.\n",
    "* We see that all 6 are important and should be considered.\n",
    "* More the number of features, higher the cv score is. \n",
    "* However, with  4 and 5 features, the cv score is same and is increased with the 6th .\n",
    "* Hence we will be considering all the 6 features in ur modelling."
   ]
  },
  {
   "cell_type": "markdown",
   "id": "fc76645b",
   "metadata": {},
   "source": [
    "\n",
    "\n",
    "<hr style=\"border:01px  solid gray\"> </hr>\n",
    "\n",
    "## <center>ELBOW METHOD & IMPLEMENTING K-MEANS <a name=\"km\"></a>\n",
    "\n",
    "<hr style=\"border:01px  solid gray\"> </hr>\n"
   ]
  },
  {
   "cell_type": "code",
   "execution_count": 32,
   "id": "804204c2",
   "metadata": {},
   "outputs": [
    {
     "data": {
      "image/png": "[encoded data removed]",
      "text/plain": [
       "<Figure size 720x360 with 1 Axes>"
      ]
     },
     "metadata": {
      "needs_background": "light"
     },
     "output_type": "display_data"
    }
   ],
   "source": [
    "from sklearn.cluster import KMeans\n",
    "\n",
    "sse = {}\n",
    "\n",
    "for k in range(2,16):\n",
    "    kmeans = KMeans(n_clusters = k, random_state=123)\n",
    "    cluster_labels = kmeans.fit_predict(wholesale_processed_df)\n",
    "    sse[k] = kmeans.inertia_\n",
    "   \n",
    "plt.figure(figsize=(10,5))\n",
    "plt.title('Selecting k using Elbow Method')\n",
    "plt.xlabel('Number of clusters')\n",
    "plt.ylabel('Average distance')\n",
    "sns.pointplot(x = list(sse.keys()), y = list(sse.values()))\n",
    "\n",
    "plt.show()\n"
   ]
  },
  {
   "cell_type": "code",
   "execution_count": 33,
   "id": "2202ea8d",
   "metadata": {},
   "outputs": [],
   "source": [
    "# Interpret 3 cluster solution\n",
    "\n",
    "from sklearn.cluster import KMeans\n",
    "\n",
    "# Interpret 3 cluster solution\n",
    "mode3Cluster = KMeans(n_clusters=3)\n",
    "mode3Cluster.fit(wholesale_processed_df)\n",
    "preds=mode3Cluster.predict(wholesale_processed_df)\n",
    "\n"
   ]
  },
  {
   "cell_type": "code",
   "execution_count": 34,
   "id": "0f2ca378",
   "metadata": {},
   "outputs": [
    {
     "data": {
      "text/plain": [
       "array([[-0.5739327 ,  0.83205308,  0.99906216, -0.60220642,  1.06131932,\n",
       "        -0.03713531],\n",
       "       [ 0.96773124,  0.41462223,  0.20127467,  0.9021028 , -0.01445033,\n",
       "         0.98429607],\n",
       "       [-0.02477891, -0.73438506, -0.756101  ,  0.02201884, -0.70647593,\n",
       "        -0.39222034]])"
      ]
     },
     "execution_count": 34,
     "metadata": {},
     "output_type": "execute_result"
    }
   ],
   "source": [
    "mode3Cluster.cluster_centers_"
   ]
  },
  {
   "cell_type": "code",
   "execution_count": 35,
   "id": "4a5389ac",
   "metadata": {},
   "outputs": [
    {
     "data": {
      "text/plain": [
       "array([0, 0, 1, 1, 1, 0, 0, 0, 0, 0, 0, 2, 0, 0, 0, 2, 0, 1, 1, 0, 1, 2,\n",
       "       1, 1, 1, 0, 2, 2, 0, 2, 1, 2, 2, 1, 2, 0, 1, 0, 0, 1, 1, 1, 0, 0,\n",
       "       0, 0, 0, 1, 0, 0, 2, 0, 1, 0, 2, 0, 0, 0, 2, 0, 0, 0, 1, 0, 2, 0,\n",
       "       0, 0, 1, 2, 1, 1, 2, 1, 0, 2, 2, 0, 2, 2, 2, 0, 0, 2, 2, 0, 0, 1,\n",
       "       2, 1, 2, 1, 0, 1, 0, 2, 0, 2, 2, 2, 1, 0, 0, 1, 2, 2, 0, 0, 0, 0,\n",
       "       2, 0, 1, 2, 2, 2, 2, 2, 2, 2, 2, 2, 2, 0, 1, 1, 2, 1, 0, 2, 2, 2,\n",
       "       2, 2, 2, 2, 1, 0, 2, 2, 1, 1, 2, 2, 2, 0, 2, 2, 2, 2, 2, 2, 2, 2,\n",
       "       2, 0, 0, 2, 0, 0, 0, 2, 2, 0, 0, 1, 0, 2, 2, 2, 0, 0, 0, 0, 2, 0,\n",
       "       1, 1, 2, 2, 0, 1, 0, 1, 2, 2, 2, 0, 0, 0, 2, 2, 2, 0, 2, 1, 1, 0,\n",
       "       2, 2, 0, 0, 1, 2, 2, 0, 2, 0, 0, 0, 2, 0, 2, 0, 0, 0, 0, 2, 0, 2,\n",
       "       2, 0, 2, 2, 2, 2, 1, 2, 2, 2, 1, 0, 2, 2, 1, 2, 2, 2, 2, 1, 1, 2,\n",
       "       2, 1, 0, 0, 2, 2, 2, 2, 2, 0, 2, 1, 1, 2, 2, 2, 1, 1, 2, 2, 2, 2,\n",
       "       0, 1, 0, 1, 0, 2, 2, 2, 0, 1, 2, 2, 1, 2, 2, 1, 2, 1, 1, 1, 1, 2,\n",
       "       2, 1, 2, 2, 2, 2, 2, 0, 1, 2, 2, 0, 0, 2, 1, 0, 0, 0, 0, 0, 0, 2,\n",
       "       2, 0, 2, 2, 0, 2, 2, 0, 2, 0, 2, 0, 2, 2, 2, 2, 2, 1, 2, 2, 1, 2,\n",
       "       2, 0, 1, 0, 1, 1, 2, 2, 2, 2, 0, 0, 0, 0, 2, 0, 0, 1, 2, 0, 2, 0,\n",
       "       2, 0, 1, 2, 2, 0, 1, 2, 2, 2, 2, 2, 2, 0, 2, 2, 2, 2, 1, 2, 2, 1,\n",
       "       2, 2, 0, 2, 2, 0, 2, 2, 1, 2, 1, 2, 2, 2, 2, 2, 2, 2, 2, 1, 2, 2,\n",
       "       0, 2, 2, 2, 2, 1, 2, 0, 1, 2, 1, 0, 0, 1, 2, 2, 0, 1, 2, 0, 0, 0,\n",
       "       0, 2, 0, 1, 2, 2, 0, 1, 1, 1, 2, 2, 0, 1, 2, 2, 0, 1, 2, 0, 2, 2])"
      ]
     },
     "execution_count": 35,
     "metadata": {},
     "output_type": "execute_result"
    }
   ],
   "source": [
    "mode3Cluster.labels_"
   ]
  },
  {
   "cell_type": "markdown",
   "id": "ebfb6950",
   "metadata": {},
   "source": [
    "***\n",
    "\n",
    "**OBSERVATION:**\n",
    "\n",
    "* Elbow method is applied to find out the optimal clusters needed within the given range (2-15).\n",
    "* We see from `cell 32` , three would be the approprite number of clusters.\n",
    "* K-means clustering is applied on the `whole_processed_df`with `n_clusters=3`.\n",
    "* With `cluster_centers_` , the centroids values are got. \n",
    "\n",
    "<hr style=\"border:.03px  solid black\"> </hr>"
   ]
  },
  {
   "cell_type": "markdown",
   "id": "da1a8af8",
   "metadata": {},
   "source": [
    "<hr style=\"border:01px  solid gray\"> </hr>\n",
    "\n",
    "## <center>PCA <a name=\"pca\"></a>\n",
    "\n",
    "<hr style=\"border:01px  solid gray\"> </hr>\n"
   ]
  },
  {
   "cell_type": "code",
   "execution_count": 36,
   "id": "bd937d9a",
   "metadata": {},
   "outputs": [],
   "source": [
    "#PCA implementation\n",
    "from sklearn.decomposition import PCA\n",
    "pca = PCA(n_components = 6)\n",
    "principalComponents = pca.fit_transform(wholesale_processed_df)\n",
    "PCA_components = pd.DataFrame(principalComponents)"
   ]
  },
  {
   "cell_type": "code",
   "execution_count": 37,
   "id": "29087c6d",
   "metadata": {},
   "outputs": [
    {
     "data": {
      "text/plain": [
       "array([0.44889984, 0.28002326, 0.10189812, 0.09626769, 0.04639271,\n",
       "       0.02651837])"
      ]
     },
     "execution_count": 37,
     "metadata": {},
     "output_type": "execute_result"
    }
   ],
   "source": [
    "pca.explained_variance_ratio_\n"
   ]
  },
  {
   "cell_type": "code",
   "execution_count": 38,
   "id": "42215337",
   "metadata": {},
   "outputs": [
    {
     "data": {
      "text/plain": [
       "Text(0, 0.5, 'Cumulative Explained Variance')"
      ]
     },
     "execution_count": 38,
     "metadata": {},
     "output_type": "execute_result"
    },
    {
     "data": {
      "image/png": "[encoded data removed]",
      "text/plain": [
       "<Figure size 720x360 with 1 Axes>"
      ]
     },
     "metadata": {
      "needs_background": "light"
     },
     "output_type": "display_data"
    }
   ],
   "source": [
    "#plotting Explained Variance\n",
    "plt.figure(figsize = (10,5))\n",
    "plt.plot(range(1,7),pca.explained_variance_ratio_.cumsum(),marker = 'o',linestyle = '--')\n",
    "plt.title('Explained Variance by Components')\n",
    "plt.xlabel('Number of Components')\n",
    "plt.ylabel('Cumulative Explained Variance')"
   ]
  },
  {
   "cell_type": "code",
   "execution_count": 39,
   "id": "15eb9de5",
   "metadata": {},
   "outputs": [
    {
     "data": {
      "text/html": [
       "<div>\n",
       "<style scoped>\n",
       "    .dataframe tbody tr th:only-of-type {\n",
       "        vertical-align: middle;\n",
       "    }\n",
       "\n",
       "    .dataframe tbody tr th {\n",
       "        vertical-align: top;\n",
       "    }\n",
       "\n",
       "    .dataframe thead th {\n",
       "        text-align: right;\n",
       "    }\n",
       "</style>\n",
       "<table border=\"1\" class=\"dataframe\">\n",
       "  <thead>\n",
       "    <tr style=\"text-align: right;\">\n",
       "      <th></th>\n",
       "      <th>Explained Variance</th>\n",
       "    </tr>\n",
       "  </thead>\n",
       "  <tbody>\n",
       "    <tr>\n",
       "      <th>Component 1</th>\n",
       "      <td>0.448900</td>\n",
       "    </tr>\n",
       "    <tr>\n",
       "      <th>Component 2</th>\n",
       "      <td>0.280023</td>\n",
       "    </tr>\n",
       "    <tr>\n",
       "      <th>Component 3</th>\n",
       "      <td>0.101898</td>\n",
       "    </tr>\n",
       "    <tr>\n",
       "      <th>Component 4</th>\n",
       "      <td>0.096268</td>\n",
       "    </tr>\n",
       "    <tr>\n",
       "      <th>Component 5</th>\n",
       "      <td>0.046393</td>\n",
       "    </tr>\n",
       "    <tr>\n",
       "      <th>Component 6</th>\n",
       "      <td>0.026518</td>\n",
       "    </tr>\n",
       "  </tbody>\n",
       "</table>\n",
       "</div>"
      ],
      "text/plain": [
       "             Explained Variance\n",
       "Component 1            0.448900\n",
       "Component 2            0.280023\n",
       "Component 3            0.101898\n",
       "Component 4            0.096268\n",
       "Component 5            0.046393\n",
       "Component 6            0.026518"
      ]
     },
     "execution_count": 39,
     "metadata": {},
     "output_type": "execute_result"
    }
   ],
   "source": [
    "#Components indexing\n",
    "dimensions = ['Component {}'.format(i) for i in range(1,(pca.n_components_)+1)]\n",
    "var = pd.DataFrame(pca.explained_variance_ratio_, columns = ['Explained Variance'] , index = dimensions)\n",
    "var\n"
   ]
  },
  {
   "cell_type": "code",
   "execution_count": 40,
   "id": "0e2ebb2b",
   "metadata": {},
   "outputs": [
    {
     "data": {
      "image/png": "[encoded data removed]",
      "text/plain": [
       "<Figure size 576x576 with 1 Axes>"
      ]
     },
     "metadata": {
      "needs_background": "light"
     },
     "output_type": "display_data"
    }
   ],
   "source": [
    "# plot 1st vs 2nd principal component to visualize cluster formation\n",
    "PCA_components = pd.DataFrame(principalComponents)\n",
    "plt.figure(figsize=(8, 8))\n",
    "plt.scatter(PCA_components[0], PCA_components[1], c=mode3Cluster.labels_)\n",
    "plt.gca().set_aspect(\"equal\")\n",
    "plt.xlabel(\"First principal component\")\n",
    "plt.ylabel(\"Second principal component\");"
   ]
  },
  {
   "cell_type": "markdown",
   "id": "fa0524e8",
   "metadata": {},
   "source": [
    "<hr style=\"border:.03px  solid black\"> </hr>\n",
    "\n",
    "**OBSERVATION**\n",
    "\n",
    "* Initially, PCA is applied considering all the features of the dataset in `cell 36`.\n",
    "* In `cell 37`, explained variance is got. \n",
    "* In `cell 38` , plotting of explained variance by components is visualized. \n",
    "* we can infer from `cell 39` that, the first two components are able to retain the original information accounting to 72% of the total and the first 4 components to 92.6% of the total.\n",
    "* In `cell 40`, visualization of clusters are donen suing scatter plot with first and second components. \n",
    "* We see that 3 clusters looks reasonable to identify similar samples within our data.\n",
    "***\n"
   ]
  },
  {
   "cell_type": "markdown",
   "id": "01555e74",
   "metadata": {},
   "source": [
    "<hr style=\"border:01px  solid gray\"> </hr>\n",
    "\n",
    "## <center>DATA MODELLING<a name=\"dm\"></a>\n",
    "\n",
    "<hr style=\"border:01px  solid gray\"> </hr>\n",
    "\n",
    "In DataModelling, the following steps are performed\n",
    "1. [Train_test_split](#tts)\n",
    "2. [Implementing XgBoost](#xgb)\n",
    "3. [Cross Validation](#cv)\n",
    "4. [Model evaluation](#me)\n",
    "    "
   ]
  },
  {
   "cell_type": "markdown",
   "id": "827092da",
   "metadata": {},
   "source": [
    "###  1. Train_Test_Split: <a name=\"tts\"></a>"
   ]
  },
  {
   "cell_type": "code",
   "execution_count": 41,
   "id": "22bfb7c1",
   "metadata": {},
   "outputs": [],
   "source": [
    "#splitting features and traget variable\n",
    "X = df.drop('Channel', axis=1)\n",
    "y = df['Channel']"
   ]
  },
  {
   "cell_type": "code",
   "execution_count": 42,
   "id": "d2778fc4",
   "metadata": {},
   "outputs": [],
   "source": [
    "#train_test_split\n",
    "from sklearn.model_selection import train_test_split\n",
    "\n",
    "X_train, X_test, y_train, y_test = train_test_split(X, y, test_size = 0.2, random_state = 0)"
   ]
  },
  {
   "cell_type": "code",
   "execution_count": 43,
   "id": "ad83e551",
   "metadata": {},
   "outputs": [
    {
     "name": "stdout",
     "output_type": "stream",
     "text": [
      "Shape of training data : (352, 7)\n",
      "Shape of testing data : (88, 7)\n"
     ]
    }
   ],
   "source": [
    "# shape of the dataset\n",
    "print('Shape of training data :',X_train.shape)\n",
    "print('Shape of testing data :',X_test.shape)"
   ]
  },
  {
   "cell_type": "markdown",
   "id": "85793a0e",
   "metadata": {},
   "source": [
    "### 2.Implementing XgBoost.<a name=\"xgb\"></a>"
   ]
  },
  {
   "cell_type": "code",
   "execution_count": 44,
   "id": "d45adf4d",
   "metadata": {},
   "outputs": [
    {
     "name": "stdout",
     "output_type": "stream",
     "text": [
      "[03:49:19] WARNING: C:/Users/Administrator/workspace/xgboost-win64_release_1.4.0/src/learner.cc:1095: Starting in XGBoost 1.3.0, the default evaluation metric used with the objective 'binary:logistic' was changed from 'error' to 'logloss'. Explicitly set eval_metric if you'd like to restore the old behavior.\n"
     ]
    },
    {
     "name": "stderr",
     "output_type": "stream",
     "text": [
      "C:\\Users\\Hp\\Anacondaaa\\lib\\site-packages\\xgboost\\sklearn.py:1146: UserWarning: The use of label encoder in XGBClassifier is deprecated and will be removed in a future release. To remove this warning, do the following: 1) Pass option use_label_encoder=False when constructing XGBClassifier object; and 2) Encode your labels (y) as integers starting with 0, i.e. 0, 1, 2, ..., [num_class - 1].\n",
      "  warnings.warn(label_encoder_deprecation_msg, UserWarning)\n"
     ]
    },
    {
     "data": {
      "text/plain": [
       "XGBClassifier(alpha=10, base_score=0.5, booster='gbtree', colsample_bylevel=1,\n",
       "              colsample_bynode=1, colsample_bytree=1, gamma=0, gpu_id=-1,\n",
       "              importance_type='gain', interaction_constraints='',\n",
       "              learning_rate=1.0, max_delta_step=0, max_depth=4,\n",
       "              min_child_weight=1, missing=nan, monotone_constraints='()',\n",
       "              n_estimators=100, n_jobs=4, num_parallel_tree=1, random_state=0,\n",
       "              reg_alpha=10, reg_lambda=1, scale_pos_weight=1, subsample=1,\n",
       "              tree_method='exact', validate_parameters=1, verbosity=None)"
      ]
     },
     "execution_count": 44,
     "metadata": {},
     "output_type": "execute_result"
    }
   ],
   "source": [
    "# import XGBClassifier\n",
    "from xgboost import XGBClassifier\n",
    "from sklearn.metrics import accuracy_score\n",
    "\n",
    "# declare parameters in dict\n",
    "params = {\n",
    "            'objective':'binary:logistic',\n",
    "            'max_depth': 4,\n",
    "            'alpha': 10,\n",
    "            'learning_rate': 1.0,\n",
    "            'n_estimators':100\n",
    "        }         \n",
    "           \n",
    "          \n",
    "# instantiate the classifier \n",
    "xgb_clf = XGBClassifier(**params)\n",
    "\n",
    "# fit the classifier to the training data\n",
    "xgb_clf.fit(X_train, y_train)"
   ]
  },
  {
   "cell_type": "code",
   "execution_count": 45,
   "id": "7e5bc9f0",
   "metadata": {},
   "outputs": [
    {
     "name": "stdout",
     "output_type": "stream",
     "text": [
      "XGBClassifier(alpha=10, base_score=0.5, booster='gbtree', colsample_bylevel=1,\n",
      "              colsample_bynode=1, colsample_bytree=1, gamma=0, gpu_id=-1,\n",
      "              importance_type='gain', interaction_constraints='',\n",
      "              learning_rate=1.0, max_delta_step=0, max_depth=4,\n",
      "              min_child_weight=1, missing=nan, monotone_constraints='()',\n",
      "              n_estimators=100, n_jobs=4, num_parallel_tree=1, random_state=0,\n",
      "              reg_alpha=10, reg_lambda=1, scale_pos_weight=1, subsample=1,\n",
      "              tree_method='exact', validate_parameters=1, verbosity=None)\n"
     ]
    }
   ],
   "source": [
    "# we can view the parameters of the xgb trained model as follows \n",
    "print(xgb_clf)"
   ]
  },
  {
   "cell_type": "code",
   "execution_count": 46,
   "id": "3724fd7c",
   "metadata": {},
   "outputs": [
    {
     "data": {
      "text/plain": [
       "array([2, 2, 1, 2, 1, 2, 2, 1, 1, 1, 2, 2, 1, 1, 1, 1, 2, 1, 1, 1, 1, 2,\n",
       "       1, 1, 1, 1, 2, 1, 1, 1, 1, 2, 1, 1, 1, 2, 2, 1, 1, 1, 1, 1, 1, 2,\n",
       "       1, 2, 2, 1, 1, 1, 1, 1, 2, 2, 1, 1, 1, 1, 1, 1, 1, 2, 1, 2, 2, 2,\n",
       "       2, 2, 2, 2, 1, 1, 2, 1, 1, 1, 1, 1, 1, 1, 2, 1, 2, 1, 2, 2, 2, 1],\n",
       "      dtype=int64)"
      ]
     },
     "execution_count": 46,
     "metadata": {},
     "output_type": "execute_result"
    }
   ],
   "source": [
    "# make predictions on test data\n",
    "y_pred = xgb_clf.predict(X_test)\n",
    "y_pred"
   ]
  },
  {
   "cell_type": "code",
   "execution_count": 47,
   "id": "890cac59",
   "metadata": {},
   "outputs": [
    {
     "name": "stdout",
     "output_type": "stream",
     "text": [
      "XGBoost model accuracy score: 0.9091\n"
     ]
    }
   ],
   "source": [
    "# compute and print accuracy score\n",
    "\n",
    "from sklearn.metrics import accuracy_score\n",
    "print('XGBoost model accuracy score: {0:0.4f}'. format(accuracy_score(y_test, y_pred)))"
   ]
  },
  {
   "cell_type": "markdown",
   "id": "e48619d8",
   "metadata": {},
   "source": [
    "### 3. Cross Validation: <a name=\"cv\"></a> "
   ]
  },
  {
   "cell_type": "code",
   "execution_count": 48,
   "id": "59e74f52",
   "metadata": {},
   "outputs": [],
   "source": [
    "#label must be in [0,1] for logistic regression for xgBoost-Dmatrix. it won't acceot anything but 0,1. Hence we will be converting 1 and 2 to 0 and 1.\n",
    "\n",
    "# convert labels into binary values\n",
    "y_train.head(5)\n",
    "y_train[y_train == 2] = 0\n",
    "y_train[y_train == 1] = 1"
   ]
  },
  {
   "cell_type": "code",
   "execution_count": 49,
   "id": "ebb696db",
   "metadata": {},
   "outputs": [
    {
     "data": {
      "text/plain": [
       "45     0\n",
       "264    0\n",
       "4      0\n",
       "236    1\n",
       "432    1\n",
       "      ..\n",
       "323    1\n",
       "192    1\n",
       "117    1\n",
       "47     0\n",
       "172    1\n",
       "Name: Channel, Length: 352, dtype: int64"
      ]
     },
     "execution_count": 49,
     "metadata": {},
     "output_type": "execute_result"
    }
   ],
   "source": [
    "y_train"
   ]
  },
  {
   "cell_type": "code",
   "execution_count": 50,
   "id": "62281379",
   "metadata": {},
   "outputs": [],
   "source": [
    "#dTrain \n",
    "import xgboost as xgb\n",
    "data_train = xgb.DMatrix(X_train, y_train)"
   ]
  },
  {
   "cell_type": "code",
   "execution_count": 51,
   "id": "64cd1365",
   "metadata": {},
   "outputs": [],
   "source": [
    "from xgboost import cv\n",
    "\n",
    "params = {\"objective\":\"binary:logistic\",\n",
    "          'colsample_bytree': 0.3,\n",
    "          'learning_rate': 0.1,\n",
    "          'max_depth':5, \n",
    "          'alpha': 10\n",
    "         }"
   ]
  },
  {
   "cell_type": "code",
   "execution_count": 52,
   "id": "90851bfe",
   "metadata": {},
   "outputs": [],
   "source": [
    "#applying cv\n",
    "xgb_cv = cv(dtrain=data_train, params=params , nfold=5,\n",
    "                    num_boost_round=50, early_stopping_rounds=10, metrics=\"auc\", as_pandas=True, seed=123)"
   ]
  },
  {
   "cell_type": "markdown",
   "id": "b36ead45",
   "metadata": {},
   "source": [
    "### 4.Model evaluation<a name=\"me\"></a>"
   ]
  },
  {
   "cell_type": "code",
   "execution_count": 53,
   "id": "fa49ba31",
   "metadata": {},
   "outputs": [
    {
     "name": "stdout",
     "output_type": "stream",
     "text": [
      "Average cross validation score for XgBoost is:\n",
      " train-auc-mean    0.960719\n",
      "train-auc-std     0.008050\n",
      "test-auc-mean     0.931031\n",
      "test-auc-std      0.035002\n",
      "dtype: float64\n"
     ]
    }
   ],
   "source": [
    "print(\"Average cross validation score for XgBoost is:\\n\",xgb_cv.mean())"
   ]
  },
  {
   "cell_type": "code",
   "execution_count": 54,
   "id": "04062b81",
   "metadata": {},
   "outputs": [
    {
     "name": "stdout",
     "output_type": "stream",
     "text": [
      "Cross validation scores:\n",
      "     train-auc-mean  train-auc-std  test-auc-mean  test-auc-std\n",
      "45        0.967704       0.006021       0.938645      0.034519\n",
      "46        0.967728       0.006006       0.939000      0.034764\n",
      "47        0.967804       0.006042       0.939000      0.034764\n",
      "48        0.967849       0.006102       0.939000      0.034764\n",
      "49        0.967896       0.006100       0.939213      0.034633\n"
     ]
    }
   ],
   "source": [
    "print(\"Cross validation scores:\\n\",xgb_cv.tail())"
   ]
  },
  {
   "cell_type": "code",
   "execution_count": 55,
   "id": "d5057901",
   "metadata": {},
   "outputs": [
    {
     "name": "stdout",
     "output_type": "stream",
     "text": [
      "49    0.939213\n",
      "Name: test-auc-mean, dtype: float64\n"
     ]
    }
   ],
   "source": [
    "print((xgb_cv[\"test-auc-mean\"]).tail(1))"
   ]
  },
  {
   "cell_type": "markdown",
   "id": "52b61773",
   "metadata": {},
   "source": [
    "<hr style=\"border:.03px  solid black\"> </hr>\n",
    "\n",
    "**OBSERVATION**\n",
    "\n",
    "\n",
    "* With **Train_Test_Split**, the train set is 80% and test set is 20%. \n",
    "* When **Xgboost** was implemented on the dataset, an accuracy score of 90.91% was achieved, which can be infered from `cell47`.\n",
    "* So as to improve  XgBoost’s performance and efficiency, `DMatrix` is used. We will be acheiving this by using the Xgboots' Dmatrix functionality. \n",
    "* `params` dictionary is set to hold all the parameters .  `num_boost_rounds` is used to set the number of boosting iteration. `early_stopping_rounds`- activates the stoppping rounds. `metrics` used will be \"auc\" curve as it is a classification problem. \n",
    "* In `cell 52` , **xgboost CV** is applied. \n",
    "* In `cell53` ,the average of **CV** scores are printed. \n",
    "* In `cell54` , cv scores are printed. \n",
    "* Evaluation Metrics is done with 'AUC' has with AUC, the performance of the classifier will not be biased on the test data size. Also, with each round, the score is increased. \n",
    "\n",
    "<hr style=\"border:.03px  solid black\"> </hr>\n"
   ]
  },
  {
   "cell_type": "markdown",
   "id": "72f52ebb",
   "metadata": {},
   "source": [
    "<hr style=\"border:01px  solid gray\"> </hr>\n",
    "\n",
    "## <center>CONCLUSION<a name=\"cln\"></a>\n",
    "    \n",
    "<hr style=\"border:01px  solid gray\"> </hr>\n",
    "\n",
    ">With regards to clustering, we can conclude that 3 clusters are ideal for this wholesale customer dataset. \n",
    ">Also, with RFECV we can conclude that all features are vital. \n",
    ">With regard to Xgboost, From the above implementation and evalutaion, we can say for this particular model of implementing Xgboost models, the maximum score achievable is 93%.  \n",
    ">We see that , with normal implementation without any tuning, is 90%. However, with Dtrain cv, we see that the maximum achievable accuracy_Score is is 93.9%. "
   ]
  }
 ],
 "metadata": {
  "kernelspec": {
   "display_name": "Python 3",
   "language": "python",
   "name": "python3"
  },
  "language_info": {
   "codemirror_mode": {
    "name": "ipython",
    "version": 3
   },
   "file_extension": ".py",
   "mimetype": "text/x-python",
   "name": "python",
   "nbconvert_exporter": "python",
   "pygments_lexer": "ipython3",
   "version": "3.8.8"
  }
 },
 "nbformat": 4,
 "nbformat_minor": 5
}
